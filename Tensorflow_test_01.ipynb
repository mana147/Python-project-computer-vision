{
 "nbformat": 4,
 "nbformat_minor": 2,
 "metadata": {
  "language_info": {
   "name": "python",
   "codemirror_mode": {
    "name": "ipython",
    "version": 3
   },
   "version": "3.7.7-final"
  },
  "orig_nbformat": 2,
  "file_extension": ".py",
  "mimetype": "text/x-python",
  "name": "python",
  "npconvert_exporter": "python",
  "pygments_lexer": "ipython3",
  "version": 3,
  "kernelspec": {
   "name": "python37764bit16c9fac7eab6458aa3593d4a1753e0d5",
   "display_name": "Python 3.7.7 64-bit"
  }
 },
 "cells": [
  {
   "cell_type": "code",
   "execution_count": null,
   "metadata": {},
   "outputs": [],
   "source": [
    "# Phân loại cơ bản: Dự đoán ảnh quần áo giày dép\n",
    "# Hướng dẫn này dùng tf.keras, một API cấp cao để xây dựng và huấn luyện các mô hình trong TensorFlow."
   ]
  },
  {
   "cell_type": "code",
   "execution_count": null,
   "metadata": {},
   "outputs": [],
   "source": [
    "import tensorflow as tf\n",
    "from tensorflow import keras\n",
    "from tensorflow.keras import layers\n",
    "from tensorflow.keras import models\n",
    "\n",
    "from tensorflow.keras import Sequential\n",
    "\n",
    "# Helper libraries\n",
    "import numpy as np\n",
    "import matplotlib.pyplot as plt\n",
    "\n",
    "print(tf.__version__)"
   ]
  },
  {
   "cell_type": "code",
   "execution_count": null,
   "metadata": {},
   "outputs": [],
   "source": [
    "# Tập dữ liệu sau khi được tải sẽ trả về 4 mảng NumPy:\n",
    "# 2 mảng train_images và train_labels là tập huấn luyện. Mô hình sẽ học từ dữ liệu của 2 mảng này.\n",
    "# 2 mảng test_images vả test_labels là tập kiểm thử. Sau khi mô hình được huấn luyện xong, chúng ta sẽ chạy thử mô hình với dữ liệu đầu vào từ test_images để lấy kết quả, và so sánh kết quả đó với dữ liệu đối ứng từ test_labels để đánh giá chất lượng của mạng neuron.\n",
    "# Mỗi ảnh là một mảng NumPy 2 chiều, 28x28, với mỗi pixel có giá trị từ 0 đến 255. Nhãn là một mảng của các số nguyên từ 0 đến 9, tương ứng với mỗi lớp quần áo giày dép:"
   ]
  },
  {
   "cell_type": "code",
   "execution_count": null,
   "metadata": {},
   "outputs": [],
   "source": [
    "# import tập dữ liệu về quần áo và giày dép từ Fashion MNIST\n",
    "\n",
    "fashion_mnist = keras.datasets.fashion_mnist\n",
    "\n",
    "( train_images , train_labels) , (test_images, test_labels) = fashion_mnist.load_data()\n",
    "\n",
    "np.savetxt('train_labels.log' , train_labels  , fmt='%s' )\n",
    "\n",
    "np.savetxt('train_images.log' , train_images[1]  , fmt='%s' )\n",
    ""
   ]
  },
  {
   "cell_type": "code",
   "execution_count": null,
   "metadata": {},
   "outputs": [],
   "source": [
    "# function save the array or img to text\n",
    "NUB = 2\n",
    "DATA_TEXT = 'data_text'\n",
    "\n",
    "# print ( train_images[NUB] )\n",
    "np.savetxt( DATA_TEXT + '/text.csv' , train_images[NUB]  , fmt='%s' )\n",
    "\n",
    "# # function save array to img via plt \n",
    "def FUNCTION_SAVE():\n",
    "    for numb in range(len(train_images)):\n",
    "        str_a = 'data/'\n",
    "        str_b = '.png'\n",
    "        str_a = str_a +  str(numb) + str_b\n",
    "        plt.imsave(str_a ,  train_images[numb] )"
   ]
  },
  {
   "cell_type": "code",
   "execution_count": null,
   "metadata": {},
   "outputs": [],
   "source": [
    "# khám phá dữ liệu \n",
    "print (\"train_images.shape : \",train_images.shape )\n",
    "print(\"train_image:\" , train_images.size)\n",
    "print (\"train_images[1].size : \",train_images[1].size)\n",
    "print(\"leng : \", len(train_images))\n",
    ""
   ]
  },
  {
   "cell_type": "code",
   "execution_count": null,
   "metadata": {},
   "outputs": [],
   "source": [
    "class_names = [\n",
    "    'Áo thun', \n",
    "    'Quần dài', \n",
    "    'Áo liền quần', \n",
    "    'Đầm', \n",
    "    'Áo khoác', \n",
    "    'Sandal', \n",
    "    'Áo sơ mi', \n",
    "    'Giày', \n",
    "    'Túi xách', \n",
    "    'Ủng']"
   ]
  },
  {
   "cell_type": "code",
   "execution_count": null,
   "metadata": {},
   "outputs": [],
   "source": [
    "for x in class_names:\n",
    "    \n",
    "    print(\" class : \", x)"
   ]
  },
  {
   "cell_type": "code",
   "execution_count": null,
   "metadata": {},
   "outputs": [],
   "source": [
    "# Tiền xử lý dữ liệu\n",
    "# Dữ liệu cần được tiền xử lý trước khi được dùng để huấn luyện mạng neuron. Phân tích ảnh đầu tiên trong tập dữ liệu, chúng ta sẽ thấy các pixel có giá trị từ 0 đến 255:"
   ]
  },
  {
   "cell_type": "code",
   "execution_count": null,
   "metadata": {},
   "outputs": [],
   "source": [
    "def fun_show(x):\n",
    "    plt.figure()\n",
    "    plt.imshow(train_images[x])\n",
    "    plt.colorbar()\n",
    "    plt.show()\n",
    "\n",
    "for x in range(3) :\n",
    "    fun_show(x)\n",
    "\n",
    ""
   ]
  },
  {
   "cell_type": "code",
   "execution_count": null,
   "metadata": {},
   "outputs": [],
   "source": [
    "# Chúng ta cần tiền xử lý để mỗi một điểm ảnh có giá trị từ 0 đến 1 (có thể hiểu là 0% đến 100%). Để làm điều này, chúng ta chỉ cần lấy giá trị của pixel chia cho 255. Cần lưu ý rằng việc tiền xử lý này phải được áp dụng đồng thời cho cả tập huấn luyện và tập kiểm thử:"
   ]
  },
  {
   "cell_type": "code",
   "execution_count": null,
   "metadata": {},
   "outputs": [],
   "source": [
    "train_images = train_images / 255.0\n",
    "test_images = test_images / 255.0\n",
    "\n",
    "plt.imsave(\"train_img.png\",  train_images[0] , cmap = plt.cm.binary )\n",
    "\n",
    "# print (train_images)"
   ]
  },
  {
   "cell_type": "code",
   "execution_count": null,
   "metadata": {},
   "outputs": [],
   "source": [
    "plt.figure(figsize=(10,10))\n",
    "for i in range(25):\n",
    "    plt.subplot(5,5,i+1)\n",
    "    plt.xticks([])\n",
    "    plt.yticks([])\n",
    "    plt.grid(False)\n",
    "    plt.imshow(train_images[i], cmap=plt.cm.binary)\n",
    "    plt.xlabel(class_names[train_labels[i]])\n",
    "    plt.imsave(\"train_img.png\",  train_images[i] , cmap = plt.cm.binary )\n",
    "    \n",
    "plt.show()"
   ]
  },
  {
   "cell_type": "code",
   "execution_count": null,
   "metadata": {},
   "outputs": [],
   "source": [
    "# Xây dựng mô hình\n",
    "# Để xây dựng mạng neuron, chúng tay cần cấu hình các layer của mô hình, và sau đó biên dịch mô hình.\n",
    "\n",
    "# Thiết lập các layers\n",
    "# Thành phần cơ bản của một mạng neuron là các layer. Các layer trích xuất các điểm đặc biệt từ dữ liệu mà chúng đón nhận. Khi thực hiện tốt, những điểm đặc biệt này mang nhiều ý nghĩa và phục vụ cho toán của chúng ta.\n",
    "\n",
    "# Đa số các mô hình deep learning đều chứa các layer đơn gian được xâu chuỗi lại với nhau. Đa số các layer, ví dụ tf.keras.layers.Dense, đều có các trọng số sẽ được học trong quá trình huấn luyện.\n",
    ""
   ]
  },
  {
   "cell_type": "code",
   "execution_count": null,
   "metadata": {},
   "outputs": [],
   "source": [
    "# Thiết lập các layers\n",
    "model = keras.Sequential([\n",
    "    keras.layers.Flatten( input_shape = (28, 28) ), \n",
    "    keras.layers.Dense( 128, activation = 'relu'),\n",
    "    keras.layers.Dense(10, activation='softmax')\n",
    "])\n",
    "\n",
    "model.summary()\n",
    ""
   ]
  },
  {
   "cell_type": "code",
   "execution_count": null,
   "metadata": {},
   "outputs": [],
   "source": [
    "# Biên dịch mô hình\n",
    "model.compile(\n",
    "    optimizer='adam',\n",
    "    loss='sparse_categorical_crossentropy',\n",
    "    metrics=['accuracy']\n",
    "    )\n",
    "\n",
    "# Huấn luyện mô hình\n",
    "model.fit(train_images, train_labels, epochs=5)"
   ]
  },
  {
   "cell_type": "code",
   "execution_count": null,
   "metadata": {},
   "outputs": [],
   "source": [
    "# Đánh giá mô hình\n",
    "\n",
    "test_loss, test_acc = model.evaluate(test_images,  test_labels, verbose=2)\n",
    "\n",
    "print('\\nTest accuracy:', test_acc)\n",
    ""
   ]
  }
 ]
}