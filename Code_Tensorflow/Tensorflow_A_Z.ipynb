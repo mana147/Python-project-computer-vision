{
 "nbformat": 4,
 "nbformat_minor": 2,
 "metadata": {
  "language_info": {
   "name": "python",
   "codemirror_mode": {
    "name": "ipython",
    "version": 3
   },
   "version": "3.7.7-final"
  },
  "orig_nbformat": 2,
  "file_extension": ".py",
  "mimetype": "text/x-python",
  "name": "python",
  "npconvert_exporter": "python",
  "pygments_lexer": "ipython3",
  "version": 3,
  "kernelspec": {
   "name": "python37764bitvenvvenvb597c113d64745fd9b11318dfb95c27d",
   "display_name": "Python 3.7.7 64-bit ('VENV': venv)"
  }
 },
 "cells": [
  {
   "cell_type": "code",
   "execution_count": null,
   "metadata": {},
   "outputs": [],
   "source": [
    "import numpy as np\n",
    "import csv\n",
    "import matplotlib\n",
    "import matplotlib.pyplot as plt\n",
    "import matplotlib\n",
    "import cv2\n",
    "import urllib\n",
    "import os"
   ]
  },
  {
   "cell_type": "code",
   "execution_count": null,
   "metadata": {},
   "outputs": [],
   "source": []
  },
  {
   "cell_type": "code",
   "execution_count": null,
   "metadata": {},
   "outputs": [],
   "source": [
    "# # đọc dữ liệu\n",
    "# data_AZ = 'D:\\google_driver\\Python-project-computer-vision\\Data\\data_A_Z_Handwritten_Alphabets\\A_Z_Data.csv'\n",
    "\n",
    "# with open(data_AZ , 'r') as csv_file:\n",
    "#     result = csv.reader(csv_file)\n",
    "#     rows = []\n",
    "    \n",
    "#     # đọc từng dòng của file và thêm vào list rows, mỗi phần tử của list là một dòng\n",
    "#     for row in result:\n",
    "#         rows.append(row)"
   ]
  },
  {
   "cell_type": "code",
   "execution_count": null,
   "metadata": {},
   "outputs": [],
   "source": [
    "print(rows[100000])"
   ]
  }
 ]
}